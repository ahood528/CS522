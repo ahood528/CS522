{
  "nbformat": 4,
  "nbformat_minor": 0,
  "metadata": {
    "colab": {
      "provenance": []
    },
    "kernelspec": {
      "name": "python3",
      "display_name": "Python 3"
    },
    "language_info": {
      "name": "python"
    }
  },
  "cells": [
    {
      "cell_type": "code",
      "execution_count": 4,
      "metadata": {
        "colab": {
          "base_uri": "https://localhost:8080/"
        },
        "id": "UbejV_nsSSwY",
        "outputId": "b63362e1-7fce-40cd-9536-f23856ee57e3"
      },
      "outputs": [
        {
          "output_type": "stream",
          "name": "stdout",
          "text": [
            "/content\n"
          ]
        }
      ],
      "source": [
        "import os\n",
        "import pandas as pd\n",
        "print(os.getcwd())"
      ]
    },
    {
      "cell_type": "markdown",
      "source": [
        "Kaggle stopped working so here we are\n",
        "Goal is to create the data to be used in clustering the precipitation data for each survey year + route number combo.\n"
      ],
      "metadata": {
        "id": "Ga18U5w4UL1f"
      }
    },
    {
      "cell_type": "markdown",
      "source": [
        "First we have to associate each route with a file based on closest gps coordinates; and then we need a function that can return a series of data based on coordinates and time period; we'll transform the data in another fn"
      ],
      "metadata": {
        "id": "8amJ87bqVdSe"
      }
    },
    {
      "cell_type": "code",
      "source": [
        "def distsqrd(x1,y1,x2,y2) : \n",
        "  return ((x2-x1)*(x2-x1)) + ((y2-y1)*(y2-y1)) # return distance squared\n",
        "\n",
        "def returnClosestFile(lat, lng, arraywithfilename) :\n",
        "  winner = 99999999\n",
        "  winningIndex = 0\n",
        "  currentIndex = 0\n",
        "  for x in arraywithfilename :\n",
        "    current = distsqrd(lng,lat,x[1], x[0])\n",
        "    if current < winner :\n",
        "      winner = current\n",
        "      winningIndex = currentIndex\n",
        "    currentIndex += 1\n",
        "  return arraywithfilename[winningIndex][2] # return file name\n",
        "\n",
        "def \n",
        "\n",
        "def readprecip(filename) :\n",
        "  return pd.read_csv(filename, parse_dates=['DATE'])\n",
        "\n",
        "coordarray = [[ 44.53845502, -93.83408473, '3163000.csv'],\n",
        "       [ 39.0125231 , -79.95821355, '3163009.csv'],\n",
        "       [ 30.96771759, -84.4666357, '3163013.csv' ],\n",
        "       [ 43.29577165, -71.80487573, '3163016.csv'],\n",
        "       [ 31.72070082, -90.2132503, '3155781-mod.csv' ],\n",
        "       [ 39.22193018, -76.35985149, '3155785.csv'],\n",
        "       [ 39.76749934, -86.2771057, '3155808.csv' ],\n",
        "       [ 35.87956162, -76.99912934, '3155861.csv'],\n",
        "       [ 38.11810374, -92.30672146, '3155871.csv'],\n",
        "       [ 34.73908715, -83.79985733, '3155873.csv'],\n",
        "       [ 45.23027738, -68.96514196, '3155888.csv'],\n",
        "       [ 47.02496426, -95.2990422, '3155894.csv' ],\n",
        "       [ 40.91172204, -74.4773553, '3155906.csv' ],\n",
        "       [ 30.60071905, -94.11526452, '3155996.csv'],\n",
        "       [ 28.08420413, -81.70594462, '3156005.csv'],\n",
        "       [ 33.11577242, -81.17899961, '3156014.csv'],\n",
        "       [ 41.49745322, -93.02686429, '3156020.csv'],\n",
        "       [ 47.33513513, -92.26729451, '3156028.csv'],\n",
        "       [ 35.46922886, -88.55395709,'3156036.csv'],\n",
        "       [ 35.63904872, -80.02362788, '3156042.csv']]\n",
        "coorddict = {}\n",
        "filedict = {}\n",
        "for x in coordarray :\n",
        "  coorddict[x[2]] = (x[0], x[1])\n",
        "  # associate file name with the data from that file\n",
        "  filedict[x[2]] = readprecip(x[2])\n",
        "  #print(x[2],pd.unique(filedict[x[2]].STATION)) # used to confirm we have removed the unusable stations from 3155781-mod.csv\n",
        "  #print(filedict[x[2]])\n",
        "  #print(filedict[x[2]].dtypes)\n",
        "  #print(filedict[x[2]].head())\n",
        "  # print(\"order:\",filedict[x[2]].iloc[4].DATE.month, filedict[x[2]].iloc[4].DATE.day) # this confirms it reads it as year month day\n",
        "  #break"
      ],
      "metadata": {
        "colab": {
          "base_uri": "https://localhost:8080/"
        },
        "id": "n47n4GE_VZ0H",
        "outputId": "155832aa-81a2-4d17-9816-a06d1c304a5c"
      },
      "execution_count": 20,
      "outputs": [
        {
          "output_type": "stream",
          "name": "stdout",
          "text": [
            "3163000.csv ['USC00211448']\n",
            "3163009.csv ['USC00462920']\n",
            "3163013.csv ['USC00091463']\n",
            "3163016.csv ['USW00014745']\n",
            "3155781-mod.csv ['USW00093919']\n",
            "3155785.csv ['USW00013701']\n",
            "3155808.csv ['USC00120177']\n",
            "3155861.csv ['USC00314962']\n",
            "3155871.csv ['USC00234136']\n",
            "3155873.csv ['USC00094230']\n",
            "3155888.csv ['USW00014606']\n",
            "3155894.csv ['USC00214106']\n",
            "3155906.csv ['USW00054743']\n",
            "3155996.csv ['USC00410611']\n",
            "3156005.csv ['USW00012876']\n",
            "3156014.csv ['USW00053854']\n",
            "3156020.csv ['USC00130241']\n",
            "3156028.csv ['USW00094931']\n",
            "3156036.csv ['USW00003811']\n",
            "3156042.csv ['USC00310286']\n"
          ]
        }
      ]
    }
  ]
}