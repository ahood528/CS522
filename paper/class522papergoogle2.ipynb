{
  "nbformat": 4,
  "nbformat_minor": 0,
  "metadata": {
    "colab": {
      "provenance": []
    },
    "kernelspec": {
      "name": "python3",
      "display_name": "Python 3"
    },
    "language_info": {
      "name": "python"
    }
  },
  "cells": [
    {
      "cell_type": "code",
      "execution_count": 14,
      "metadata": {
        "colab": {
          "base_uri": "https://localhost:8080/"
        },
        "id": "cc-Pa4D6UlJo",
        "outputId": "588ce9b8-fc19-441b-abe0-3aaf88d49f4c"
      },
      "outputs": [
        {
          "output_type": "stream",
          "name": "stdout",
          "text": [
            "/content/drive/MyDrive/cs522\n",
            "/content/drive/MyDrive/cs522\n"
          ]
        }
      ],
      "source": [
        "import os\n",
        "import pandas as pd\n",
        "print(os.getcwd())\n",
        "os.chdir('/content/drive/MyDrive/cs522') # drive is permanently mounted now hurray\n",
        "print(os.getcwd())"
      ]
    },
    {
      "cell_type": "code",
      "source": [
        "# so now we load up the csv files\n",
        "frogs = pd.read_csv('frogWinners.csv')\n",
        "precip = pd.read_csv('precipWinners.csv')"
      ],
      "metadata": {
        "id": "yGfvex-PVFot"
      },
      "execution_count": 15,
      "outputs": []
    },
    {
      "cell_type": "code",
      "source": [
        "# now we calculate the support count of items and combos found together\n",
        "\n",
        "def precipLabelMaker(x, y) :\n",
        "  return (1000 * x) + y\n",
        "def frogLabelMaker(x, y) :\n",
        "  return (100000 * x) + y\n",
        "\n",
        "precipSupportCount = {}\n",
        "frogSupportCount = {}\n",
        "comboSupportCount = {}  # first level precipatation, second level frogs\n",
        "N = 0\n",
        "couldntFind = 0\n",
        "# frog data controls the outer loop because we that's where we're looking for associations\n",
        "for fdex, frow in frogs.iterrows() :\n",
        "  # make labels out of the coordinates\n",
        "  frogLabel = frogLabelMaker(frow['x'], frow['y'])\n",
        "  prowDF = precip.loc[(precip.RouteNumber == frow.RouteNumber) & (precip.SurveyYear == frow.SurveyYear)]\n",
        "  if prowDF.empty :\n",
        "    #print(\"couldn't find\", frow.RouteNumber, frow.SurveyYear)\n",
        "    couldntFind += 1\n",
        "    continue\n",
        "  prow = prowDF.iloc[0]\n",
        "  precLabel = precipLabelMaker(prow['x'], prow['y'])\n",
        "  # increment N and the support counts\n",
        "  N += 1\n",
        "  if precLabel not in precipSupportCount :\n",
        "    precipSupportCount[precLabel] = 1\n",
        "  else :\n",
        "    precipSupportCount[precLabel] = 1 + precipSupportCount[precLabel]\n",
        "  if frogLabel not in frogSupportCount :\n",
        "    frogSupportCount[frogLabel] = 1\n",
        "  else :\n",
        "    frogSupportCount[frogLabel] = 1 + frogSupportCount[frogLabel]\n",
        "  if precLabel not in comboSupportCount :\n",
        "    comboSupportCount[precLabel] = {}\n",
        "  if frogLabel not in comboSupportCount[precLabel] :\n",
        "    comboSupportCount[precLabel][frogLabel] = 1\n",
        "  else :\n",
        "    comboSupportCount[precLabel][frogLabel] = 1 + comboSupportCount[precLabel][frogLabel]\n",
        "    if comboSupportCount[precLabel][frogLabel] > 1 :\n",
        "      print (\"found a combo more than once\",frow.RouteNumber,frow.SurveyYear, frogLabel,precLabel)\n",
        "print(\"done with support count, N is \",N,\"couldn't find\",couldntFind)\n",
        "# support is just the support count divided by N, done\n"
      ],
      "metadata": {
        "colab": {
          "base_uri": "https://localhost:8080/"
        },
        "id": "bbsknbPIeSey",
        "outputId": "9fa61652-0beb-435b-a7b9-63ff93939e3e"
      },
      "execution_count": 26,
      "outputs": [
        {
          "output_type": "stream",
          "name": "stdout",
          "text": [
            "found a combo more than once 420316.0 2003.0 300020.0 22017.0\n",
            "found a combo more than once 900211.0 2008.0 2700034.0 26011.0\n",
            "found a combo more than once 591007.0 2003.0 2200017.0 13020.0\n",
            "found a combo more than once 500615.0 2014.0 1600023.0 24024.0\n",
            "found a combo more than once 470604.0 2001.0 700033.0 22011.0\n",
            "found a combo more than once 520112.0 2010.0 2100012.0 3027.0\n",
            "found a combo more than once 500234.0 2012.0 700001.0 23023.0\n",
            "found a combo more than once 520226.0 2012.0 3200025.0 18014.0\n",
            "found a combo more than once 800206.0 2015.0 13.0 18018.0\n",
            "found a combo more than once 630121.0 2013.0 200025.0 7005.0\n",
            "found a combo more than once 520416.0 2012.0 700000.0 21022.0\n",
            "found a combo more than once 360113.0 2013.0 400006.0 6026.0\n",
            "done with support count, N is  4579 couldn't find 1160\n"
          ]
        }
      ]
    },
    {
      "cell_type": "markdown",
      "source": [
        "I have found no combo with a support count greater than two.  "
      ],
      "metadata": {
        "id": "mdix-_4C52Qr"
      }
    }
  ]
}